{
 "cells": [
  {
   "cell_type": "code",
   "execution_count": null,
   "id": "6c565c19",
   "metadata": {},
   "outputs": [],
   "source": [
    "!pip install darts"
   ]
  },
  {
   "cell_type": "code",
   "execution_count": null,
   "id": "26f46b68",
   "metadata": {},
   "outputs": [],
   "source": [
    "import pandas as pd\n",
    "from darts import TimeSeries\n",
    "\n",
    "# Read a pandas DataFrame\n",
    "df = pd.read_csv('D:\\Hackethons\\Hackethon (otipy)\\Data\\For Forcasting\\For training.csv', delimiter=\",\")\n",
    "\n",
    "# Create a TimeSeries, specifying the time and value columns\n",
    "series = TimeSeries.from_dataframe(df, 'Date', 'order_count')\n",
    "\n",
    "# Set aside the last 36 months as a validation series\n",
    "train, val = series[:-36], series[-36:]"
   ]
  },
  {
   "cell_type": "code",
   "execution_count": null,
   "id": "7d5c8410",
   "metadata": {},
   "outputs": [],
   "source": [
    "import pandas as pd\n",
    "from darts import TimeSeries\n",
    "\n",
    "# Read a pandas DataFrame\n",
    "df = pd.read_csv('D:\\Hackethons\\Hackethon (otipy)\\Data\\For Forcasting\\For training.csv', delimiter=\",\")\n",
    "\n",
    "# Create a TimeSeries, specifying the time and value columns\n",
    "series = TimeSeries.from_dataframe(df, 'Date', 'order_count')\n",
    "\n",
    "# Set aside the last 36 months as a validation series\n",
    "train, val = series[:-36], series[-36:]"
   ]
  },
  {
   "cell_type": "code",
   "execution_count": null,
   "id": "ea7800e7",
   "metadata": {},
   "outputs": [],
   "source": [
    "import matplotlib.pyplot as plt\n",
    "import numpy as np\n",
    "\n",
    "series.plot()\n",
    "pred = prediction.plot(label='forecast', low_quantile=0.05, high_quantile=0.95)\n",
    "plt.legend()\n",
    "\n",
    "a = np.array(prediction).reshape(-1,1)\n",
    "b = np.array(val).reshape(-1,1)\n",
    "pred"
   ]
  }
 ],
 "metadata": {
  "kernelspec": {
   "display_name": "Python 3",
   "language": "python",
   "name": "python3"
  },
  "language_info": {
   "codemirror_mode": {
    "name": "ipython",
    "version": 3
   },
   "file_extension": ".py",
   "mimetype": "text/x-python",
   "name": "python",
   "nbconvert_exporter": "python",
   "pygments_lexer": "ipython3",
   "version": "3.8.8"
  }
 },
 "nbformat": 4,
 "nbformat_minor": 5
}
